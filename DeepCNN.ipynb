{
 "cells": [
  {
   "cell_type": "code",
   "execution_count": null,
   "id": "53733688-1ebd-47e8-a9dc-c7feb68c9c8b",
   "metadata": {},
   "outputs": [],
   "source": [
    "%load_ext autoreload\n",
    "%autoreload 2"
   ]
  },
  {
   "cell_type": "code",
   "execution_count": null,
   "id": "dc53d4e2-c7e1-4c18-a6c8-7a52ef46cb73",
   "metadata": {},
   "outputs": [],
   "source": [
    "from panoradio_hf.data import IQDataModel\n",
    "from panoradio_hf.deepcnn import DeepCNN\n",
    "from panoradio_hf.net_utils import initialize_pl_trainer\n",
    "import lightning as pl"
   ]
  },
  {
   "cell_type": "code",
   "execution_count": null,
   "id": "ac767389-b413-43aa-9e22-56394f211ba6",
   "metadata": {},
   "outputs": [],
   "source": [
    "iqdata = IQDataModel()\n",
    "model = DeepCNN()\n",
    "\n",
    "callbacks, mlf_logger = initialize_pl_trainer(\"deep-cnn\")\n",
    "\n",
    "trainer = pl.Trainer(callbacks=callbacks,\n",
    "                     max_epochs=100,\n",
    "                     logger=mlf_logger)\n",
    "trainer.fit(model, iqdata)"
   ]
  }
 ],
 "metadata": {
  "kernelspec": {
   "display_name": "Python 3 (ipykernel)",
   "language": "python",
   "name": "python3"
  },
  "language_info": {
   "codemirror_mode": {
    "name": "ipython",
    "version": 3
   },
   "file_extension": ".py",
   "mimetype": "text/x-python",
   "name": "python",
   "nbconvert_exporter": "python",
   "pygments_lexer": "ipython3",
   "version": "3.9.21"
  }
 },
 "nbformat": 4,
 "nbformat_minor": 5
}
