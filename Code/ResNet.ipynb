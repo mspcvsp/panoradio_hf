{
 "cells": [
  {
   "cell_type": "code",
   "execution_count": null,
   "id": "3e8847e6-bc87-43e4-92b7-79cb04b26787",
   "metadata": {},
   "outputs": [],
   "source": [
    "%load_ext autoreload\n",
    "%autoreload 2"
   ]
  },
  {
   "cell_type": "code",
   "execution_count": null,
   "id": "31a0003c-e7f9-48dc-9e03-0897633f859d",
   "metadata": {},
   "outputs": [],
   "source": [
    "from panoradio_hf.data import IQDataModel\n",
    "from panoradio_hf.resnet import ResidualNetwork\n",
    "from panoradio_hf.net_utils import initialize_pl_trainer\n",
    "import lightning as pl"
   ]
  },
  {
   "cell_type": "code",
   "execution_count": null,
   "id": "bc3d61af-e447-4fb2-9728-e19df988d073",
   "metadata": {},
   "outputs": [],
   "source": [
    "iqdata = IQDataModel(batch_size=256)\n",
    "model = ResidualNetwork()\n",
    "\n",
    "callbacks, mlf_logger = initialize_pl_trainer(\"resnet\")\n",
    "\n",
    "trainer = pl.Trainer(callbacks=callbacks,\n",
    "                     max_epochs=100,\n",
    "                     logger=mlf_logger)\n",
    "\n",
    "trainer.fit(model, iqdata)"
   ]
  }
 ],
 "metadata": {
  "kernelspec": {
   "display_name": "Python 3 (ipykernel)",
   "language": "python",
   "name": "python3"
  },
  "language_info": {
   "codemirror_mode": {
    "name": "ipython",
    "version": 3
   },
   "file_extension": ".py",
   "mimetype": "text/x-python",
   "name": "python",
   "nbconvert_exporter": "python",
   "pygments_lexer": "ipython3",
   "version": "3.9.21"
  }
 },
 "nbformat": 4,
 "nbformat_minor": 5
}
