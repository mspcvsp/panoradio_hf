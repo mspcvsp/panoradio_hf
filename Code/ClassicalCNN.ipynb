{
 "cells": [
  {
   "cell_type": "code",
   "execution_count": 1,
   "id": "8c52eb1d-0a7e-4a9c-bc40-2eaee5cde124",
   "metadata": {},
   "outputs": [],
   "source": [
    "%load_ext autoreload\n",
    "%autoreload 2"
   ]
  },
  {
   "cell_type": "code",
   "execution_count": 1,
   "id": "3f067232-a96b-4496-8f6a-250b35e10045",
   "metadata": {},
   "outputs": [],
   "source": [
    "from panoradio_hf.data import IQDataModel\n",
    "from panoradio_hf.ccnn import ClassicalCNN\n",
    "from panoradio_hf.net_utils import initialize_pl_trainer\n",
    "import lightning as pl"
   ]
  },
  {
   "cell_type": "code",
   "execution_count": 5,
   "id": "d9ec691b-3aa6-451e-8514-7277f6dd2408",
   "metadata": {},
   "outputs": [],
   "source": [
    "iqdata = IQDataModel()\n",
    "model = ClassicalCNN()\n",
    "\n",
    "callbacks, mlf_logger = initialize_pl_trainer(\"classical-cnn\")\n",
    "\n",
    "trainer = pl.Trainer(callbacks=callbacks,\n",
    "                     max_epochs=100,\n",
    "                     logger=mlf_logger)\n",
    "\n",
    "trainer.fit(model, iqdata)"
   ]
  }
 ],
 "metadata": {
  "kernelspec": {
   "display_name": "Python 3 (ipykernel)",
   "language": "python",
   "name": "python3"
  },
  "language_info": {
   "codemirror_mode": {
    "name": "ipython",
    "version": 3
   },
   "file_extension": ".py",
   "mimetype": "text/x-python",
   "name": "python",
   "nbconvert_exporter": "python",
   "pygments_lexer": "ipython3",
   "version": "3.9.21"
  }
 },
 "nbformat": 4,
 "nbformat_minor": 5
}
