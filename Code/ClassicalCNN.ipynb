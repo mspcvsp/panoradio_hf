{
 "cells": [
  {
   "cell_type": "code",
   "execution_count": 1,
   "id": "8c52eb1d-0a7e-4a9c-bc40-2eaee5cde124",
   "metadata": {},
   "outputs": [],
   "source": [
    "%load_ext autoreload\n",
    "%autoreload 2"
   ]
  },
  {
   "cell_type": "code",
   "execution_count": 2,
   "id": "3f067232-a96b-4496-8f6a-250b35e10045",
   "metadata": {},
   "outputs": [],
   "source": [
    "from panoradio_hf.data import IQDataModel\n",
    "from panoradio_hf.net_utils import get_model_checkpoint_dir\n",
    "from panoradio_hf.ccnn import ClassicalCNN\n",
    "import matplotlib.pyplot as plt\n",
    "import lightning as pl\n",
    "import pandas as pd\n",
    "import numpy as np\n",
    "import joblib as jl\n",
    "import matplotlib as mpl\n",
    "from panoradio_hf.net_utils import evaluate_model_predictions\n",
    "import seaborn as sns\n",
    "import os\n",
    "from panoradio_hf.net_utils import get_model_checkpoint_dir\n",
    "from panoradio_hf.net_utils import initialize_pl_trainer\n",
    "%matplotlib inline"
   ]
  },
  {
   "cell_type": "code",
   "execution_count": 5,
   "id": "d9ec691b-3aa6-451e-8514-7277f6dd2408",
   "metadata": {},
   "outputs": [],
   "source": [
    "train_model = False\n",
    "\n",
    "if train_model:\n",
    "    iqdata = IQDataModel()\n",
    "    model = ClassicalCNN()\n",
    "\n",
    "    callbacks, mlf_logger = initialize_pl_trainer(\"classical-cnn\")\n",
    "    \n",
    "    trainer = pl.Trainer(callbacks=callbacks,\n",
    "                         max_epochs=100,\n",
    "                         logger=mlf_logger)\n",
    "    trainer.fit(model, iqdata)"
   ]
  },
  {
   "cell_type": "code",
   "execution_count": 6,
   "id": "0bb73042-424d-4455-80f6-1f474a071c11",
   "metadata": {},
   "outputs": [
    {
     "name": "stdout",
     "output_type": "stream",
     "text": [
      "'epoch=26-val_loss=0.00-other_metric=0.00.ckpt'\n"
     ]
    }
   ],
   "source": [
    "ls /home/mspcvsp/ModelCheckpoints/panorado_hf/classical-cnn/"
   ]
  },
  {
   "cell_type": "code",
   "execution_count": 7,
   "id": "84d76624-4d05-4eab-9fff-8ec15af70c55",
   "metadata": {},
   "outputs": [
    {
     "name": "stderr",
     "output_type": "stream",
     "text": [
      "GPU available: True (cuda), used: True\n",
      "TPU available: False, using: 0 TPU cores\n",
      "HPU available: False, using: 0 HPUs\n",
      "LOCAL_RANK: 0 - CUDA_VISIBLE_DEVICES: [0]\n"
     ]
    },
    {
     "data": {
      "application/vnd.jupyter.widget-view+json": {
       "model_id": "23b8bef7931b4030a7b4af329e2da62f",
       "version_major": 2,
       "version_minor": 0
      },
      "text/plain": [
       "Predicting: |                                          | 0/? [00:00<?, ?it/s]"
      ]
     },
     "metadata": {},
     "output_type": "display_data"
    }
   ],
   "source": [
    "model_checkpoint = \"epoch=26-val_loss=0.00-other_metric=0.00.ckpt\"\n",
    "\n",
    "model_checkpoint_pth =\\\n",
    "    get_model_checkpoint_dir(\"classical-cnn\").joinpath(model_checkpoint)\n",
    "\n",
    "model = ClassicalCNN.load_from_checkpoint(model_checkpoint_pth)\n",
    "trainer = pl.Trainer()\n",
    "predictions = trainer.predict(model,\n",
    "                              datamodule=IQDataModel())"
   ]
  },
  {
   "cell_type": "code",
   "execution_count": 13,
   "id": "eb02ba75-0fc2-4fa4-bf2a-ecceda2e8226",
   "metadata": {},
   "outputs": [],
   "source": [
    "from panoradio_hf.net_utils import init_snrid_accuracy"
   ]
  },
  {
   "cell_type": "code",
   "execution_count": 15,
   "id": "dc8a8625-033e-48d9-ac50-90f2b557839f",
   "metadata": {},
   "outputs": [
    {
     "data": {
      "text/plain": [
       "Text(0.5, 0, 'SNR [dB]')"
      ]
     },
     "execution_count": 15,
     "metadata": {},
     "output_type": "execute_result"
    },
    {
     "data": {
      "image/png": "[encoded data removed]",
      "text/plain": [
       "<Figure size 500x400 with 1 Axes>"
      ]
     },
     "metadata": {},
     "output_type": "display_data"
    }
   ],
   "source": [
    "snrid_clf_report, snrid_conf_mat =\\\n",
    "    evaluate_model_predictions(predictions)\n",
    "\n",
    "cnn_snrid_acc = init_snrid_accuracy(snrid_clf_report)\n",
    "\n",
    "h_ax = plt.figure(figsize=(5, 4)).gca()\n",
    "sns.lineplot(ccnn_snrid_acc,\n",
    "             x=\"snr\",\n",
    "             y=\"ccnn\",\n",
    "             marker=\"s\",\n",
    "             markersize=7,\n",
    "             ax=h_ax)\n",
    "h_ax.grid(True)\n",
    "h_ax.set_ylabel(\"CCNN Accuracy\")\n",
    "h_ax.set_xlabel(\"SNR [dB]\")"
   ]
  }
 ],
 "metadata": {
  "kernelspec": {
   "display_name": "Python 3 (ipykernel)",
   "language": "python",
   "name": "python3"
  },
  "language_info": {
   "codemirror_mode": {
    "name": "ipython",
    "version": 3
   },
   "file_extension": ".py",
   "mimetype": "text/x-python",
   "name": "python",
   "nbconvert_exporter": "python",
   "pygments_lexer": "ipython3",
   "version": "3.9.21"
  }
 },
 "nbformat": 4,
 "nbformat_minor": 5
}
