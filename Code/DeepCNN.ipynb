{
 "cells": [
  {
   "cell_type": "code",
   "execution_count": 12,
   "id": "53733688-1ebd-47e8-a9dc-c7feb68c9c8b",
   "metadata": {},
   "outputs": [
    {
     "name": "stdout",
     "output_type": "stream",
     "text": [
      "The autoreload extension is already loaded. To reload it, use:\n",
      "  %reload_ext autoreload\n"
     ]
    }
   ],
   "source": [
    "%load_ext autoreload\n",
    "%autoreload 2"
   ]
  },
  {
   "cell_type": "code",
   "execution_count": 13,
   "id": "dc53d4e2-c7e1-4c18-a6c8-7a52ef46cb73",
   "metadata": {},
   "outputs": [],
   "source": [
    "from panoradio_hf.data import IQDataModel\n",
    "from panoradio_hf.net_utils import get_model_checkpoint_dir\n",
    "from panoradio_hf.deepcnn import DeepCNN \n",
    "import matplotlib.pyplot as plt\n",
    "import lightning as pl\n",
    "import pandas as pd\n",
    "import numpy as np\n",
    "import joblib as jl\n",
    "import matplotlib as mpl\n",
    "from panoradio_hf.net_utils import evaluate_model_predictions\n",
    "import seaborn as sns\n",
    "import os\n",
    "from panoradio_hf.net_utils import get_model_checkpoint_dir\n",
    "from panoradio_hf.net_utils import initialize_pl_trainer\n",
    "%matplotlib inline"
   ]
  },
  {
   "cell_type": "code",
   "execution_count": 14,
   "id": "ac767389-b413-43aa-9e22-56394f211ba6",
   "metadata": {},
   "outputs": [
    {
     "name": "stderr",
     "output_type": "stream",
     "text": [
      "GPU available: True (cuda), used: True\n",
      "TPU available: False, using: 0 TPU cores\n",
      "HPU available: False, using: 0 HPUs\n",
      "/home/mspcvsp/anaconda3/envs/algdev/lib/python3.9/site-packages/lightning/pytorch/callbacks/model_checkpoint.py:654: Checkpoint directory /home/mspcvsp/ModelCheckpoints/panorado_hf/deep-cnn exists and is not empty.\n",
      "LOCAL_RANK: 0 - CUDA_VISIBLE_DEVICES: [0]\n",
      "\n",
      "   | Name           | Type               | Params | Mode \n",
      "---------------------------------------------------------------\n",
      "0  | loss           | CrossEntropyLoss   | 0      | train\n",
      "1  | train_accuracy | MulticlassAccuracy | 0      | train\n",
      "2  | val_accuracy   | MulticlassAccuracy | 0      | train\n",
      "3  | test_accuracy  | MulticlassAccuracy | 0      | train\n",
      "4  | conv1          | Sequential         | 13.1 K | train\n",
      "5  | conv2          | Sequential         | 25.0 K | train\n",
      "6  | conv3          | Sequential         | 74.5 K | train\n",
      "7  | conv4          | Sequential         | 99.1 K | train\n",
      "8  | conv5          | Sequential         | 185 K  | train\n",
      "9  | conv6          | Sequential         | 222 K  | train\n",
      "10 | drop1          | Dropout1d          | 0      | train\n",
      "11 | conv7          | Sequential         | 345 K  | train\n",
      "12 | conv8          | Sequential         | 394 K  | train\n",
      "13 | drop2          | Dropout1d          | 0      | train\n",
      "14 | linear_layers  | Sequential         | 36.9 K | train\n",
      "15 | softmax        | Softmax            | 0      | train\n",
      "---------------------------------------------------------------\n",
      "1.4 M     Trainable params\n",
      "0         Non-trainable params\n",
      "1.4 M     Total params\n",
      "5.587     Total estimated model params size (MB)\n",
      "74        Modules in train mode\n",
      "0         Modules in eval mode\n"
     ]
    },
    {
     "data": {
      "application/vnd.jupyter.widget-view+json": {
       "model_id": "0533eb36208c444caaef6db7c4b31b02",
       "version_major": 2,
       "version_minor": 0
      },
      "text/plain": [
       "Sanity Checking: |                                                         | 0/? [00:00<?, ?it/s]"
      ]
     },
     "metadata": {},
     "output_type": "display_data"
    },
    {
     "data": {
      "application/vnd.jupyter.widget-view+json": {
       "model_id": "a3c6c25c613e47c6a8883ad56b2b61e0",
       "version_major": 2,
       "version_minor": 0
      },
      "text/plain": [
       "Training: |                                                                | 0/? [00:00<?, ?it/s]"
      ]
     },
     "metadata": {},
     "output_type": "display_data"
    },
    {
     "data": {
      "application/vnd.jupyter.widget-view+json": {
       "model_id": "ed8018e361174c418097cd885ba52152",
       "version_major": 2,
       "version_minor": 0
      },
      "text/plain": [
       "Validation: |                                                              | 0/? [00:00<?, ?it/s]"
      ]
     },
     "metadata": {},
     "output_type": "display_data"
    },
    {
     "data": {
      "application/vnd.jupyter.widget-view+json": {
       "model_id": "98836598727f460eaf3ccbdd7dbdb641",
       "version_major": 2,
       "version_minor": 0
      },
      "text/plain": [
       "Validation: |                                                              | 0/? [00:00<?, ?it/s]"
      ]
     },
     "metadata": {},
     "output_type": "display_data"
    },
    {
     "data": {
      "application/vnd.jupyter.widget-view+json": {
       "model_id": "d5e8d803c8d249098f8b359744f0989e",
       "version_major": 2,
       "version_minor": 0
      },
      "text/plain": [
       "Validation: |                                                              | 0/? [00:00<?, ?it/s]"
      ]
     },
     "metadata": {},
     "output_type": "display_data"
    },
    {
     "data": {
      "application/vnd.jupyter.widget-view+json": {
       "model_id": "b588dd893b7346d883a0434b8fa0d2e8",
       "version_major": 2,
       "version_minor": 0
      },
      "text/plain": [
       "Validation: |                                                              | 0/? [00:00<?, ?it/s]"
      ]
     },
     "metadata": {},
     "output_type": "display_data"
    },
    {
     "data": {
      "application/vnd.jupyter.widget-view+json": {
       "model_id": "d0f0587851304376a33a45bcc454a943",
       "version_major": 2,
       "version_minor": 0
      },
      "text/plain": [
       "Validation: |                                                              | 0/? [00:00<?, ?it/s]"
      ]
     },
     "metadata": {},
     "output_type": "display_data"
    },
    {
     "data": {
      "application/vnd.jupyter.widget-view+json": {
       "model_id": "6da91e47da454ab5948227c0ac77b993",
       "version_major": 2,
       "version_minor": 0
      },
      "text/plain": [
       "Validation: |                                                              | 0/? [00:00<?, ?it/s]"
      ]
     },
     "metadata": {},
     "output_type": "display_data"
    },
    {
     "data": {
      "application/vnd.jupyter.widget-view+json": {
       "model_id": "e5ba16ac24c643248a82c24b35fb6f9f",
       "version_major": 2,
       "version_minor": 0
      },
      "text/plain": [
       "Validation: |                                                              | 0/? [00:00<?, ?it/s]"
      ]
     },
     "metadata": {},
     "output_type": "display_data"
    },
    {
     "data": {
      "application/vnd.jupyter.widget-view+json": {
       "model_id": "0454cc1095264ff4bcd30b14dc8ef0b0",
       "version_major": 2,
       "version_minor": 0
      },
      "text/plain": [
       "Validation: |                                                              | 0/? [00:00<?, ?it/s]"
      ]
     },
     "metadata": {},
     "output_type": "display_data"
    },
    {
     "data": {
      "application/vnd.jupyter.widget-view+json": {
       "model_id": "fe9028ff60ce45778db864916b4717a2",
       "version_major": 2,
       "version_minor": 0
      },
      "text/plain": [
       "Validation: |                                                              | 0/? [00:00<?, ?it/s]"
      ]
     },
     "metadata": {},
     "output_type": "display_data"
    },
    {
     "data": {
      "application/vnd.jupyter.widget-view+json": {
       "model_id": "96ee0c62f41246a3b19c93381aa3e806",
       "version_major": 2,
       "version_minor": 0
      },
      "text/plain": [
       "Validation: |                                                              | 0/? [00:00<?, ?it/s]"
      ]
     },
     "metadata": {},
     "output_type": "display_data"
    },
    {
     "data": {
      "application/vnd.jupyter.widget-view+json": {
       "model_id": "e213d1ffbf484474ad4f958d86de9bb7",
       "version_major": 2,
       "version_minor": 0
      },
      "text/plain": [
       "Validation: |                                                              | 0/? [00:00<?, ?it/s]"
      ]
     },
     "metadata": {},
     "output_type": "display_data"
    },
    {
     "data": {
      "application/vnd.jupyter.widget-view+json": {
       "model_id": "222d2530ac63476b8c0953c9077bcc0a",
       "version_major": 2,
       "version_minor": 0
      },
      "text/plain": [
       "Validation: |                                                              | 0/? [00:00<?, ?it/s]"
      ]
     },
     "metadata": {},
     "output_type": "display_data"
    },
    {
     "data": {
      "application/vnd.jupyter.widget-view+json": {
       "model_id": "639f380401ad4b41b538b029b395b6b0",
       "version_major": 2,
       "version_minor": 0
      },
      "text/plain": [
       "Validation: |                                                              | 0/? [00:00<?, ?it/s]"
      ]
     },
     "metadata": {},
     "output_type": "display_data"
    },
    {
     "data": {
      "application/vnd.jupyter.widget-view+json": {
       "model_id": "5bd24c479102403a88942e7bdda7d909",
       "version_major": 2,
       "version_minor": 0
      },
      "text/plain": [
       "Validation: |                                                              | 0/? [00:00<?, ?it/s]"
      ]
     },
     "metadata": {},
     "output_type": "display_data"
    },
    {
     "data": {
      "application/vnd.jupyter.widget-view+json": {
       "model_id": "cdfc8353b0df4e61a9237458cebc77f7",
       "version_major": 2,
       "version_minor": 0
      },
      "text/plain": [
       "Validation: |                                                              | 0/? [00:00<?, ?it/s]"
      ]
     },
     "metadata": {},
     "output_type": "display_data"
    },
    {
     "data": {
      "application/vnd.jupyter.widget-view+json": {
       "model_id": "f8508197e35d4599aca8493c35245f72",
       "version_major": 2,
       "version_minor": 0
      },
      "text/plain": [
       "Validation: |                                                              | 0/? [00:00<?, ?it/s]"
      ]
     },
     "metadata": {},
     "output_type": "display_data"
    },
    {
     "data": {
      "application/vnd.jupyter.widget-view+json": {
       "model_id": "6f224cc3072d4397adb2c336f3b96fca",
       "version_major": 2,
       "version_minor": 0
      },
      "text/plain": [
       "Validation: |                                                              | 0/? [00:00<?, ?it/s]"
      ]
     },
     "metadata": {},
     "output_type": "display_data"
    },
    {
     "data": {
      "application/vnd.jupyter.widget-view+json": {
       "model_id": "18ecf407e8e8440984bfb3dd35818e19",
       "version_major": 2,
       "version_minor": 0
      },
      "text/plain": [
       "Validation: |                                                              | 0/? [00:00<?, ?it/s]"
      ]
     },
     "metadata": {},
     "output_type": "display_data"
    },
    {
     "data": {
      "application/vnd.jupyter.widget-view+json": {
       "model_id": "449e3bf1df2243a2beb0003ae3023efb",
       "version_major": 2,
       "version_minor": 0
      },
      "text/plain": [
       "Validation: |                                                              | 0/? [00:00<?, ?it/s]"
      ]
     },
     "metadata": {},
     "output_type": "display_data"
    },
    {
     "data": {
      "application/vnd.jupyter.widget-view+json": {
       "model_id": "9ded1a91557d4ec6a5cfa54b2197649d",
       "version_major": 2,
       "version_minor": 0
      },
      "text/plain": [
       "Validation: |                                                              | 0/? [00:00<?, ?it/s]"
      ]
     },
     "metadata": {},
     "output_type": "display_data"
    }
   ],
   "source": [
    "train_model = True\n",
    "\n",
    "if train_model:\n",
    "\n",
    "    iqdata = IQDataModel()\n",
    "    model = DeepCNN()\n",
    "\n",
    "    callbacks, mlf_logger = initialize_pl_trainer(\"deep-cnn\")\n",
    "    \n",
    "    trainer = pl.Trainer(callbacks=callbacks,\n",
    "                         max_epochs=100,\n",
    "                         logger=mlf_logger)\n",
    "    trainer.fit(model, iqdata)"
   ]
  },
  {
   "cell_type": "code",
   "execution_count": 15,
   "id": "5937a580-a2a4-44c2-9016-64b4770336b7",
   "metadata": {},
   "outputs": [
    {
     "name": "stdout",
     "output_type": "stream",
     "text": [
      "'epoch=14-val_loss=0.00-other_metric=0.00.ckpt'\n",
      "'epoch=19-val_loss=0.00-other_metric=0.00.ckpt'\n"
     ]
    }
   ],
   "source": [
    "ls /home/mspcvsp/ModelCheckpoints/panorado_hf/deep-cnn/"
   ]
  },
  {
   "cell_type": "code",
   "execution_count": 16,
   "id": "b9d312c4-8da8-4894-81bd-479dafa16b88",
   "metadata": {},
   "outputs": [
    {
     "name": "stderr",
     "output_type": "stream",
     "text": [
      "GPU available: True (cuda), used: True\n",
      "TPU available: False, using: 0 TPU cores\n",
      "HPU available: False, using: 0 HPUs\n",
      "LOCAL_RANK: 0 - CUDA_VISIBLE_DEVICES: [0]\n"
     ]
    },
    {
     "data": {
      "application/vnd.jupyter.widget-view+json": {
       "model_id": "1b1201c99dc04bb39593fcdf3d70198f",
       "version_major": 2,
       "version_minor": 0
      },
      "text/plain": [
       "Predicting: |                                                              | 0/? [00:00<?, ?it/s]"
      ]
     },
     "metadata": {},
     "output_type": "display_data"
    }
   ],
   "source": [
    "model_checkpoint = \"epoch=19-val_loss=0.00-other_metric=0.00.ckpt\"\n",
    "\n",
    "model_checkpoint_pth =\\\n",
    "    get_model_checkpoint_dir(\"deep-cnn\").joinpath(model_checkpoint)\n",
    "\n",
    "model = DeepCNN.load_from_checkpoint(model_checkpoint_pth)\n",
    "trainer = pl.Trainer()\n",
    "predictions = trainer.predict(model,\n",
    "                              datamodule=IQDataModel())"
   ]
  },
  {
   "cell_type": "code",
   "execution_count": 17,
   "id": "8bafde46-7c76-47cb-9996-b460ca7ad980",
   "metadata": {},
   "outputs": [],
   "source": [
    "from panoradio_hf.net_utils import init_snrid_accuracy"
   ]
  },
  {
   "cell_type": "code",
   "execution_count": 18,
   "id": "f4461459-15d3-4977-832c-dda5d13d80c1",
   "metadata": {},
   "outputs": [
    {
     "data": {
      "text/plain": [
       "Text(0.5, 0, 'SNR [dB]')"
      ]
     },
     "execution_count": 18,
     "metadata": {},
     "output_type": "execute_result"
    },
    {
     "data": {
      "image/png": "[encoded data removed]",
      "text/plain": [
       "<Figure size 500x400 with 1 Axes>"
      ]
     },
     "metadata": {},
     "output_type": "display_data"
    }
   ],
   "source": [
    "snrid_clf_report, snrid_conf_mat =\\\n",
    "    evaluate_model_predictions(predictions)\n",
    "\n",
    "cnn_snrid_acc = init_snrid_accuracy(snrid_clf_report)\n",
    "\n",
    "h_ax = plt.figure(figsize=(5, 4)).gca()\n",
    "sns.lineplot(cnn_snrid_acc,\n",
    "             x=\"snr\",\n",
    "             y=\"ccnn\",\n",
    "             marker=\"s\",\n",
    "             markersize=7,\n",
    "             ax=h_ax)\n",
    "h_ax.grid(True)\n",
    "h_ax.set_ylabel(\"CCNN Accuracy\")\n",
    "h_ax.set_xlabel(\"SNR [dB]\")"
   ]
  },
  {
   "cell_type": "code",
   "execution_count": null,
   "id": "25483282-ecee-4bc9-a476-b9ef8d72f8ed",
   "metadata": {},
   "outputs": [],
   "source": []
  }
 ],
 "metadata": {
  "kernelspec": {
   "display_name": "Python 3 (ipykernel)",
   "language": "python",
   "name": "python3"
  },
  "language_info": {
   "codemirror_mode": {
    "name": "ipython",
    "version": 3
   },
   "file_extension": ".py",
   "mimetype": "text/x-python",
   "name": "python",
   "nbconvert_exporter": "python",
   "pygments_lexer": "ipython3",
   "version": "3.9.21"
  }
 },
 "nbformat": 4,
 "nbformat_minor": 5
}
