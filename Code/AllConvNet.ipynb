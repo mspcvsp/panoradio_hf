{
 "cells": [
  {
   "cell_type": "code",
   "execution_count": null,
   "id": "fa3c08a4-30fb-46b5-aaa3-75d31148cdcb",
   "metadata": {},
   "outputs": [],
   "source": [
    "%load_ext autoreload\n",
    "%autoreload 2"
   ]
  },
  {
   "cell_type": "code",
   "execution_count": null,
   "id": "2991b770-3784-4a38-a521-5618efa3832d",
   "metadata": {},
   "outputs": [],
   "source": [
    "from panoradio_hf.data import IQDataModel\n",
    "from panoradio_hf.allconvnet import AllConvNet\n",
    "from panoradio_hf.net_utils import initialize_pl_trainer\n",
    "import lightning as pl"
   ]
  },
  {
   "cell_type": "code",
   "execution_count": null,
   "id": "dab7965b-ec79-4e64-81bc-4f785dba55b1",
   "metadata": {},
   "outputs": [],
   "source": [
    "iqdata = IQDataModel()\n",
    "model = AllConvNet()\n",
    "\n",
    "callbacks, mlf_logger = initialize_pl_trainer(\"all-conv-net\")\n",
    "\n",
    "trainer = pl.Trainer(callbacks=callbacks,\n",
    "                     max_epochs=100,\n",
    "                     logger=mlf_logger)\n",
    "\n",
    "trainer.fit(model, iqdata)"
   ]
  }
 ],
 "metadata": {
  "kernelspec": {
   "display_name": "Python 3 (ipykernel)",
   "language": "python",
   "name": "python3"
  },
  "language_info": {
   "codemirror_mode": {
    "name": "ipython",
    "version": 3
   },
   "file_extension": ".py",
   "mimetype": "text/x-python",
   "name": "python",
   "nbconvert_exporter": "python",
   "pygments_lexer": "ipython3",
   "version": "3.9.21"
  }
 },
 "nbformat": 4,
 "nbformat_minor": 5
}
