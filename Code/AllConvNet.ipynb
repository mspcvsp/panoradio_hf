{
 "cells": [
  {
   "cell_type": "code",
   "execution_count": 2,
   "id": "fa3c08a4-30fb-46b5-aaa3-75d31148cdcb",
   "metadata": {},
   "outputs": [],
   "source": [
    "%load_ext autoreload\n",
    "%autoreload 2"
   ]
  },
  {
   "cell_type": "code",
   "execution_count": 3,
   "id": "2991b770-3784-4a38-a521-5618efa3832d",
   "metadata": {},
   "outputs": [],
   "source": [
    "from panoradio_hf.data import IQDataModel\n",
    "from panoradio_hf.net_utils import get_model_checkpoint_dir\n",
    "import matplotlib.pyplot as plt\n",
    "import lightning as pl\n",
    "import pandas as pd\n",
    "import numpy as np\n",
    "import joblib as jl\n",
    "from panoradio_hf.allconvnet import AllConvNet\n",
    "import matplotlib as mpl\n",
    "from panoradio_hf.net_utils import evaluate_model_predictions\n",
    "import seaborn as sns\n",
    "import os\n",
    "%matplotlib inline"
   ]
  },
  {
   "cell_type": "code",
   "execution_count": 4,
   "id": "ab3673d4-55ce-4b4a-a7fa-83fb9a4a3d88",
   "metadata": {},
   "outputs": [],
   "source": [
    "from panoradio_hf.net_utils import get_model_checkpoint_dir\n",
    "from panoradio_hf.net_utils import initialize_pl_trainer"
   ]
  },
  {
   "cell_type": "code",
   "execution_count": 5,
   "id": "dab7965b-ec79-4e64-81bc-4f785dba55b1",
   "metadata": {},
   "outputs": [
    {
     "name": "stderr",
     "output_type": "stream",
     "text": [
      "GPU available: True (cuda), used: True\n",
      "TPU available: False, using: 0 TPU cores\n",
      "HPU available: False, using: 0 HPUs\n",
      "/home/mspcvsp/anaconda3/envs/algdev/lib/python3.9/site-packages/lightning/pytorch/callbacks/model_checkpoint.py:654: Checkpoint directory /home/mspcvsp/ModelCheckpoints/panorado_hf/all-conv-net exists and is not empty.\n",
      "LOCAL_RANK: 0 - CUDA_VISIBLE_DEVICES: [0]\n",
      "\n",
      "   | Name           | Type               | Params | Mode \n",
      "---------------------------------------------------------------\n",
      "0  | loss           | CrossEntropyLoss   | 0      | train\n",
      "1  | train_accuracy | MulticlassAccuracy | 0      | train\n",
      "2  | val_accuracy   | MulticlassAccuracy | 0      | train\n",
      "3  | test_accuracy  | MulticlassAccuracy | 0      | train\n",
      "4  | conv1          | Sequential         | 25.5 K | train\n",
      "5  | conv2          | Sequential         | 124 K  | train\n",
      "6  | drop1          | Dropout1d          | 0      | train\n",
      "7  | conv3          | Sequential         | 493 K  | train\n",
      "8  | drop2          | Dropout1d          | 0      | train\n",
      "9  | conv4          | Sequential         | 658 K  | train\n",
      "10 | conv5          | Sequential         | 5.8 K  | train\n",
      "11 | gap            | AdaptiveAvgPool1d  | 0      | train\n",
      "12 | softmax        | Softmax            | 0      | train\n",
      "---------------------------------------------------------------\n",
      "1.3 M     Trainable params\n",
      "0         Non-trainable params\n",
      "1.3 M     Total params\n",
      "5.230     Total estimated model params size (MB)\n",
      "51        Modules in train mode\n",
      "0         Modules in eval mode\n"
     ]
    },
    {
     "data": {
      "application/vnd.jupyter.widget-view+json": {
       "model_id": "b5a6d6f6f39240b5b2cff2bc9e1cc890",
       "version_major": 2,
       "version_minor": 0
      },
      "text/plain": [
       "Sanity Checking: |                                                         | 0/? [00:00<?, ?it/s]"
      ]
     },
     "metadata": {},
     "output_type": "display_data"
    },
    {
     "data": {
      "application/vnd.jupyter.widget-view+json": {
       "model_id": "2057e1f16dbe4bbf8d03def0fa7ec93f",
       "version_major": 2,
       "version_minor": 0
      },
      "text/plain": [
       "Training: |                                                                | 0/? [00:00<?, ?it/s]"
      ]
     },
     "metadata": {},
     "output_type": "display_data"
    },
    {
     "data": {
      "application/vnd.jupyter.widget-view+json": {
       "model_id": "5128bfcd91864282b27bf2aafa26a32c",
       "version_major": 2,
       "version_minor": 0
      },
      "text/plain": [
       "Validation: |                                                              | 0/? [00:00<?, ?it/s]"
      ]
     },
     "metadata": {},
     "output_type": "display_data"
    },
    {
     "data": {
      "application/vnd.jupyter.widget-view+json": {
       "model_id": "86a4402d6cd4418aaac6f0f5d727b6e1",
       "version_major": 2,
       "version_minor": 0
      },
      "text/plain": [
       "Validation: |                                                              | 0/? [00:00<?, ?it/s]"
      ]
     },
     "metadata": {},
     "output_type": "display_data"
    },
    {
     "data": {
      "application/vnd.jupyter.widget-view+json": {
       "model_id": "5792be13ae3241f69d1ffd84e6ad4508",
       "version_major": 2,
       "version_minor": 0
      },
      "text/plain": [
       "Validation: |                                                              | 0/? [00:00<?, ?it/s]"
      ]
     },
     "metadata": {},
     "output_type": "display_data"
    },
    {
     "data": {
      "application/vnd.jupyter.widget-view+json": {
       "model_id": "805220287608478faa2cf5e1c6d027f9",
       "version_major": 2,
       "version_minor": 0
      },
      "text/plain": [
       "Validation: |                                                              | 0/? [00:00<?, ?it/s]"
      ]
     },
     "metadata": {},
     "output_type": "display_data"
    },
    {
     "data": {
      "application/vnd.jupyter.widget-view+json": {
       "model_id": "6945db2ea3fb4ceebdd44c5a86ff4d2b",
       "version_major": 2,
       "version_minor": 0
      },
      "text/plain": [
       "Validation: |                                                              | 0/? [00:00<?, ?it/s]"
      ]
     },
     "metadata": {},
     "output_type": "display_data"
    },
    {
     "data": {
      "application/vnd.jupyter.widget-view+json": {
       "model_id": "ee1a1d73a3d74d568cb35ea3f4531ec6",
       "version_major": 2,
       "version_minor": 0
      },
      "text/plain": [
       "Validation: |                                                              | 0/? [00:00<?, ?it/s]"
      ]
     },
     "metadata": {},
     "output_type": "display_data"
    },
    {
     "data": {
      "application/vnd.jupyter.widget-view+json": {
       "model_id": "45846a7320734401a2cfad74744710c1",
       "version_major": 2,
       "version_minor": 0
      },
      "text/plain": [
       "Validation: |                                                              | 0/? [00:00<?, ?it/s]"
      ]
     },
     "metadata": {},
     "output_type": "display_data"
    },
    {
     "data": {
      "application/vnd.jupyter.widget-view+json": {
       "model_id": "3124b8aa83994daeab369b2c8a6d6392",
       "version_major": 2,
       "version_minor": 0
      },
      "text/plain": [
       "Validation: |                                                              | 0/? [00:00<?, ?it/s]"
      ]
     },
     "metadata": {},
     "output_type": "display_data"
    },
    {
     "data": {
      "application/vnd.jupyter.widget-view+json": {
       "model_id": "87ef150e062e44d4b691ab4aa22251a1",
       "version_major": 2,
       "version_minor": 0
      },
      "text/plain": [
       "Validation: |                                                              | 0/? [00:00<?, ?it/s]"
      ]
     },
     "metadata": {},
     "output_type": "display_data"
    },
    {
     "data": {
      "application/vnd.jupyter.widget-view+json": {
       "model_id": "288322fcbd5b4d9d9d4da8ce707d5a27",
       "version_major": 2,
       "version_minor": 0
      },
      "text/plain": [
       "Validation: |                                                              | 0/? [00:00<?, ?it/s]"
      ]
     },
     "metadata": {},
     "output_type": "display_data"
    },
    {
     "data": {
      "application/vnd.jupyter.widget-view+json": {
       "model_id": "e8f1075bb3504d66ba6c4591a5c55740",
       "version_major": 2,
       "version_minor": 0
      },
      "text/plain": [
       "Validation: |                                                              | 0/? [00:00<?, ?it/s]"
      ]
     },
     "metadata": {},
     "output_type": "display_data"
    },
    {
     "data": {
      "application/vnd.jupyter.widget-view+json": {
       "model_id": "bfbc1e2c7cc2432ea3157616b40082b2",
       "version_major": 2,
       "version_minor": 0
      },
      "text/plain": [
       "Validation: |                                                              | 0/? [00:00<?, ?it/s]"
      ]
     },
     "metadata": {},
     "output_type": "display_data"
    },
    {
     "data": {
      "application/vnd.jupyter.widget-view+json": {
       "model_id": "18b811adcda54d4ba6e8411a9603509a",
       "version_major": 2,
       "version_minor": 0
      },
      "text/plain": [
       "Validation: |                                                              | 0/? [00:00<?, ?it/s]"
      ]
     },
     "metadata": {},
     "output_type": "display_data"
    }
   ],
   "source": [
    "train_model = False\n",
    "\n",
    "if train_model:\n",
    "\n",
    "    iqdata = IQDataModel()\n",
    "    model = AllConvNet()\n",
    "\n",
    "    callbacks, mlf_logger = initialize_pl_trainer(\"all-conv-net\")\n",
    "    \n",
    "    trainer = pl.Trainer(callbacks=callbacks,\n",
    "                         max_epochs=100,\n",
    "                         logger=mlf_logger)\n",
    "    trainer.fit(model, iqdata)"
   ]
  },
  {
   "cell_type": "code",
   "execution_count": 5,
   "id": "76dc1fbc-9ad6-4619-a692-ded0912588e8",
   "metadata": {},
   "outputs": [
    {
     "name": "stderr",
     "output_type": "stream",
     "text": [
      "GPU available: True (cuda), used: True\n",
      "TPU available: False, using: 0 TPU cores\n",
      "HPU available: False, using: 0 HPUs\n",
      "LOCAL_RANK: 0 - CUDA_VISIBLE_DEVICES: [0]\n"
     ]
    },
    {
     "data": {
      "application/vnd.jupyter.widget-view+json": {
       "model_id": "0fe6d2b379b04a71902f95c9cd775f9f",
       "version_major": 2,
       "version_minor": 0
      },
      "text/plain": [
       "Predicting: |                                                                          | 0/? [00:00<?, ?it/s]"
      ]
     },
     "metadata": {},
     "output_type": "display_data"
    }
   ],
   "source": [
    "model_checkpoint = 'epoch=12-val_loss=0.00-other_metric=0.00.ckpt'\n",
    "\n",
    "model_checkpoint_pth =\\\n",
    "    get_model_checkpoint_dir(\"all-conv-net\").joinpath(model_checkpoint)\n",
    "\n",
    "model = AllConvNet.load_from_checkpoint(model_checkpoint_pth)\n",
    "trainer = pl.Trainer()\n",
    "predictions = trainer.predict(model,\n",
    "                              datamodule=IQDataModel())"
   ]
  },
  {
   "cell_type": "code",
   "execution_count": 6,
   "id": "d68ac0ca-b401-42b1-bc7d-d71840755544",
   "metadata": {},
   "outputs": [],
   "source": [
    "from panoradio_hf.net_utils import parse_snrid"
   ]
  },
  {
   "cell_type": "code",
   "execution_count": 7,
   "id": "d0795ef1-c67b-4089-91b6-03d2efbcfc45",
   "metadata": {},
   "outputs": [
    {
     "data": {
      "text/plain": [
       "Text(0.5, 0, 'SNR [dB]')"
      ]
     },
     "execution_count": 7,
     "metadata": {},
     "output_type": "execute_result"
    },
    {
     "data": {
      "image/png": "[encoded data removed]",
      "text/plain": [
       "<Figure size 500x400 with 1 Axes>"
      ]
     },
     "metadata": {},
     "output_type": "display_data"
    }
   ],
   "source": [
    "snrid_clf_report, snrid_conf_mat =\\\n",
    "    evaluate_model_predictions(predictions)\n",
    "\n",
    "allcnet_snrid_acc =\\\n",
    "    pd.Series({key: snrid_clf_report[key][\"accuracy\"]\n",
    "               for key in snrid_clf_report})\n",
    "\n",
    "allcnet_snrid_acc = pd.DataFrame(allcnet_snrid_acc)\n",
    "allcnet_snrid_acc.reset_index(inplace=True)\n",
    "\n",
    "allcnet_snrid_acc.rename(columns={0: \"ccnn\",\n",
    "                                  \"index\": \"snrid\"},\n",
    "                         inplace=True)\n",
    "\n",
    "allcnet_snrid_acc[\"snr\"] =\\\n",
    "    allcnet_snrid_acc[\"snrid\"].apply(lambda elem: parse_snrid(elem))\n",
    "\n",
    "h_ax = plt.figure(figsize=(5, 4)).gca()\n",
    "sns.lineplot(allcnet_snrid_acc,\n",
    "             x=\"snr\",\n",
    "             y=\"ccnn\",\n",
    "             marker=\"s\",\n",
    "             markersize=7,\n",
    "             ax=h_ax)\n",
    "h_ax.grid(True)\n",
    "h_ax.set_ylabel(\"CCNN Accuracy\")\n",
    "h_ax.set_xlabel(\"SNR [dB]\")"
   ]
  }
 ],
 "metadata": {
  "kernelspec": {
   "display_name": "Python 3 (ipykernel)",
   "language": "python",
   "name": "python3"
  },
  "language_info": {
   "codemirror_mode": {
    "name": "ipython",
    "version": 3
   },
   "file_extension": ".py",
   "mimetype": "text/x-python",
   "name": "python",
   "nbconvert_exporter": "python",
   "pygments_lexer": "ipython3",
   "version": "3.9.21"
  }
 },
 "nbformat": 4,
 "nbformat_minor": 5
}
